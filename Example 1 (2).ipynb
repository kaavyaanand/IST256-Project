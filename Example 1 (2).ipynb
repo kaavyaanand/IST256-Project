{
 "cells": [
  {
   "cell_type": "code",
   "execution_count": 13,
   "metadata": {},
   "outputs": [],
   "source": [
    "import json\n",
    "import requests\n",
    "from IPython.display import Image"
   ]
  },
  {
   "cell_type": "code",
   "execution_count": 14,
   "metadata": {
    "scrolled": false
   },
   "outputs": [
    {
     "name": "stdout",
     "output_type": "stream",
     "text": [
      "                                          Welcome to Cuisine Creator!                             \n",
      "\n",
      "                                                Pick a cuisine!\n",
      "\n",
      "                  African, American, British, Cajun, Caribbean, Chinese, Eastern European,\n",
      "\n",
      "                           European, French, German, Greek, Indian, Irish, Italian, \n",
      "\n",
      "                      Japanese, Jewish, Korean, Latin American, Mediterranean, Mexican,\n",
      "\n",
      "                         Middle Eastern, Nordic, Southern, Spanish, Thai, Vietnamese\n",
      "\n",
      "\n",
      "\n",
      "                                                 Pick a diet!\n",
      "\n",
      "                            Gluten Free, Ketogenic, Vegetarian, Lacto-Vegetarian, \n",
      "\n",
      "                          Ovo-Vegetarian, Vegan, Pescetarian, Paleo, Primal, Whole30, \n",
      "\n",
      "                                                   or none\n",
      "\n",
      "                        \n",
      "\n",
      "                                              Pick an intolerance!\n",
      "\n",
      "                            Dairy, Egg, Gluten, Grain, Peanut, Seafood, Sesame, \n",
      "\n",
      "                                Shellfish, Soy, Slufite, Tree Nut, Wheat,\n",
      "\n",
      "                                                    or none\n",
      "\n",
      "\n",
      "\n",
      "                                                 \n"
     ]
    }
   ],
   "source": [
    "filename = 'cuisines.txt'\n",
    "with open(filename, 'r') as f:\n",
    "    for line in f.readlines():\n",
    "        print(line)\n",
    "    "
   ]
  },
  {
   "cell_type": "code",
   "execution_count": 15,
   "metadata": {},
   "outputs": [],
   "source": [
    "cuisine = ['African', 'American', 'British', 'Cajun', 'Caribbean', 'Chinese', 'Eastern European', 'European', 'French', 'German', 'Greek', 'Indian', 'Irish', 'Italian', 'Japanese', 'Jewish', 'Korean', 'Latin American', 'Mediterranean', 'Mexcian', 'Middle Eastern', 'Nordic', 'Southern', 'Spanish', 'Thai', 'Vietnamese']\n",
    "diets = ['Gluten Free', 'Ketogenic', 'Vegetarian', 'Lacto-Vegetarian', 'Ovo-Vegetarian', 'Vegan', 'Pescetarian', 'Paleo', 'Primal', 'Whole30']\n",
    "intolerances = ['Dairy', 'Egg', 'Gluten', 'Grain', 'Peanut', 'Seafood', 'Sesame', 'Shellfish', 'Soy', 'Sulfite', 'Tree Nut', 'Wheat']\n",
    "    "
   ]
  },
  {
   "cell_type": "code",
   "execution_count": 19,
   "metadata": {
    "scrolled": true
   },
   "outputs": [
    {
     "name": "stdout",
     "output_type": "stream",
     "text": [
      "Enter a cuisine that you'd like to eat: korean\n",
      "Are you on a diet?: vegan\n",
      "Do you have an intolerance?: none\n",
      "You should eat: Roasted Butternut Squash, Shiitake Mushroom and Kale, Kimchi Bibimsoba\n"
     ]
    }
   ],
   "source": [
    "eat = input(\"Enter a cuisine that you'd like to eat: \")\n",
    "diet = input(\"Are you on a diet?: \")\n",
    "intolerance = input(\"Do you have an intolerance?: \")\n",
    "url = 'https://api.spoonacular.com/recipes/search'\n",
    "params = {'cuisine' : eat, 'diet' : diet, 'intolerances' : intolerance, 'number' : 1, 'apiKey' : 'af0adcdfc2f74bd5943e1d54dd154b98', 'instructionsRequired' : True, }\n",
    "response = requests.get(url, params = params)\n",
    "recipe = response.json()\n",
    "eat_this = recipe['results'][0]['title']\n",
    "idnum = recipe['results'][0]['id']\n",
    "\n",
    "\n",
    "#try:\n",
    "    #while True:\n",
    "       # for item in cuisine:\n",
    "           # if eat != item:\n",
    "           #     print(\"Sorry, make sure you've spelled everything correctly.\")\n",
    "           #     break\n",
    "\n",
    "       # for item in diets:\n",
    "          #  if diet != item:\n",
    "           #     print(\"Sorry, make sure you've spelled everything correctly.\")\n",
    "           #     break\n",
    "          #  if diet == 'none':\n",
    "            #    continue\n",
    "\n",
    "       # for item in intolerances:\n",
    "          #  if intolerance != item:\n",
    "            #    print(\"Sorry, make sure you've spelled everything correctly.\")\n",
    "                \n",
    "       # if eat_this != recipe['results'][0]['title']:\n",
    "        #    print('Sorry, we couldn't find any results, please try again!)\n",
    "            \n",
    "   # print('You should eat:', eat_this)\n",
    "    \n",
    "#except IndexError:\n",
    "    #print(\"Sorry, please try again.\")\n",
    "\n",
    "while True:\n",
    "    if diet == 'none':\n",
    "        break\n",
    "    elif intolerance == 'none':\n",
    "        break\n",
    "print('You should eat:', eat_this)\n",
    "\n",
    "    "
   ]
  },
  {
   "cell_type": "code",
   "execution_count": 20,
   "metadata": {},
   "outputs": [
    {
     "name": "stdout",
     "output_type": "stream",
     "text": [
      "\u001b[1mRoasted Butternut Squash, Shiitake Mushroom and Kale, Kimchi Bibimsoba\u001b[0m\n"
     ]
    },
    {
     "data": {
      "text/html": [
       "<img src=\"https://spoonacular.com/recipeImages/248994-556x370.jpg\"/>"
      ],
      "text/plain": [
       "<IPython.core.display.Image object>"
      ]
     },
     "metadata": {},
     "output_type": "display_data"
    },
    {
     "name": "stdout",
     "output_type": "stream",
     "text": [
      "\u001b[1mPreperation Minutes:\u001b[0m 10\n",
      "\u001b[1mCooking Minutes:\u001b[0m 30\n",
      "\u001b[1mIngredients:\u001b[0m\n",
      "butternut squash\n",
      "green onions\n",
      "bbq sauce\n",
      "kale\n",
      "kimchi\n",
      "oil\n",
      "seaweed\n",
      "sesame seeds\n",
      "shiitake mushrooms\n",
      "soba noodles\n",
      "\u001b[1mInstructions:\u001b[0m\n",
      "Toss with the butternut squash with the oil and gochugaru, place in a single layer on a baking pan and bake in a preheated 400F oven until tender, about 20-30 minutes.Meanwhile, heat the oil in a pan over medium heat, add the kale and saute until tender, about 3-5 minutes, and set aside.Heat the oil in a pan over medium heat, add the shiitake mushrooms, saute until slightly caramelized, about 7-10 minutes, and set aside.Cook the soba noodles as directed.Assemble bibimsoba, garnish with toasted sesame seeds, toasted seaweed powder, green onions to taste and gochujang sauce.\n"
     ]
    }
   ],
   "source": [
    "ident = idnum\n",
    "url = 'https://api.spoonacular.com/recipes/%s/information' % ident\n",
    "params = {'apiKey' : 'af0adcdfc2f74bd5943e1d54dd154b98' }\n",
    "response = requests.get(url, params = params)\n",
    "recipe = response.json()\n",
    "#print(recipe)\n",
    "\n",
    "print('\\033[1m' + eat_this + '\\033[0m')\n",
    "remote_image = Image(url=recipe['image'])\n",
    "display(remote_image)\n",
    "\n",
    "print('\\033[1m' + 'Preperation Minutes:' + '\\033[0m', recipe['preparationMinutes'])\n",
    "print('\\033[1m' + 'Cooking Minutes:' + '\\033[0m', recipe['cookingMinutes'])\n",
    "\n",
    "print('\\033[1m' + 'Ingredients:' + '\\033[0m')\n",
    "for item in recipe['extendedIngredients']:\n",
    "    print(item['name'])\n",
    "\n",
    "\n",
    "print('\\033[1m' + 'Instructions:' + '\\033[0m')\n",
    "instructions = recipe['instructions']\n",
    "print(instructions)\n"
   ]
  },
  {
   "cell_type": "code",
   "execution_count": null,
   "metadata": {},
   "outputs": [],
   "source": []
  }
 ],
 "metadata": {
  "kernelspec": {
   "display_name": "Python 3",
   "language": "python",
   "name": "python3"
  },
  "language_info": {
   "codemirror_mode": {
    "name": "ipython",
    "version": 3
   },
   "file_extension": ".py",
   "mimetype": "text/x-python",
   "name": "python",
   "nbconvert_exporter": "python",
   "pygments_lexer": "ipython3",
   "version": "3.7.3"
  }
 },
 "nbformat": 4,
 "nbformat_minor": 2
}
