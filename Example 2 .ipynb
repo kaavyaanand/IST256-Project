{
 "cells": [
  {
   "cell_type": "code",
   "execution_count": 9,
   "metadata": {},
   "outputs": [
    {
     "data": {
      "text/plain": [
       "{'type': 'product',\n",
       " 'products': [{'id': 214146,\n",
       "   'title': 'La Yogurt Original Variety Pack Lowfat Yogurt - Strawberry & Peach Blended',\n",
       "   'image': 'https://spoonacular.com/productImages/214146-312x231.jpg',\n",
       "   'imageType': 'jpg'},\n",
       "  {'id': 71784,\n",
       "   'title': 'Oikos Yogurt',\n",
       "   'image': 'https://spoonacular.com/productImages/71784-312x231.jpg',\n",
       "   'imageType': 'jpg'},\n",
       "  {'id': 75544,\n",
       "   'title': 'noosa yogurt raspberry',\n",
       "   'image': 'https://spoonacular.com/productImages/75544-312x231.jpg',\n",
       "   'imageType': 'jpg'},\n",
       "  {'id': 180024,\n",
       "   'title': 'Cabot Yogurt Greek-Style Lowfat Peach',\n",
       "   'image': 'https://spoonacular.com/productImages/180024-312x231.jpg',\n",
       "   'imageType': 'jpg'},\n",
       "  {'id': 178490,\n",
       "   'title': 'Ahold Yogurt Light Strawberry Banana Nonfat',\n",
       "   'image': 'https://spoonacular.com/productImages/178490-312x231.jpg',\n",
       "   'imageType': 'jpg'},\n",
       "  {'id': 213502,\n",
       "   'title': 'Kemps Yogurt - Light Strawberry Banana Nonfat',\n",
       "   'image': 'https://spoonacular.com/productImages/213502-312x231.jpg',\n",
       "   'imageType': 'jpg'},\n",
       "  {'id': 213554,\n",
       "   'title': 'Kemps Yogurt - Greek Style Nonfat Black Cherry',\n",
       "   'image': 'https://spoonacular.com/productImages/213554-312x231.jpg',\n",
       "   'imageType': 'jpg'},\n",
       "  {'id': 109621,\n",
       "   'title': 'Dannon Fruit on the Bottom Lowfat Yogurt Cherry',\n",
       "   'image': 'https://spoonacular.com/productImages/109621-312x231.jpg',\n",
       "   'imageType': 'jpg'},\n",
       "  {'id': 110010,\n",
       "   'title': 'Dannon Yogurt',\n",
       "   'image': 'https://spoonacular.com/productImages/110010-312x231.jpg',\n",
       "   'imageType': 'jpg'},\n",
       "  {'id': 150968,\n",
       "   'title': 'Dannon Yogurt',\n",
       "   'image': 'https://spoonacular.com/productImages/150968-312x231.jpg',\n",
       "   'imageType': 'jpg'}],\n",
       " 'offset': 0,\n",
       " 'number': 10,\n",
       " 'totalProducts': 2389,\n",
       " 'processingTimeMs': 245,\n",
       " 'expires': 1575551040208,\n",
       " 'isStale': False}"
      ]
     },
     "execution_count": 9,
     "metadata": {},
     "output_type": "execute_result"
    }
   ],
   "source": [
    "import json\n",
    "import requests\n",
    "\n",
    "url = 'https://api.spoonacular.com/food/products/search?query=yogurt&apiKey=af0adcdfc2f74bd5943e1d54dd154b98'\n",
    "response = requests.get(url)\n",
    "\n",
    "response.ok\n",
    "response.text\n",
    "\n",
    "recipe = response.json()\n",
    "recipe\n"
   ]
  },
  {
   "cell_type": "raw",
   "metadata": {},
   "source": []
  },
  {
   "cell_type": "code",
   "execution_count": null,
   "metadata": {},
   "outputs": [],
   "source": []
  }
 ],
 "metadata": {
  "kernelspec": {
   "display_name": "Python 3",
   "language": "python",
   "name": "python3"
  },
  "language_info": {
   "codemirror_mode": {
    "name": "ipython",
    "version": 3
   },
   "file_extension": ".py",
   "mimetype": "text/x-python",
   "name": "python",
   "nbconvert_exporter": "python",
   "pygments_lexer": "ipython3",
   "version": "3.7.3"
  }
 },
 "nbformat": 4,
 "nbformat_minor": 2
}
