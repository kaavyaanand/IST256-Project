{
 "cells": [
  {
   "cell_type": "code",
   "execution_count": 1,
   "metadata": {},
   "outputs": [],
   "source": [
    "import json\n",
    "import requests\n",
    "from IPython.display import Image"
   ]
  },
  {
   "cell_type": "code",
   "execution_count": 2,
   "metadata": {},
   "outputs": [
    {
     "name": "stdout",
     "output_type": "stream",
     "text": [
      "Enter a cuisine you'd like to eatitalian\n"
     ]
    },
    {
     "data": {
      "text/plain": [
       "{'results': [{'id': 613283,\n",
       "   'title': 'creamy parmesan garlic gnocchi',\n",
       "   'readyInMinutes': 20,\n",
       "   'servings': 4,\n",
       "   'image': 'creamy-parmesan-garlic-gnocchi-613283.jpg',\n",
       "   'imageUrls': ['creamy-parmesan-garlic-gnocchi-613283.jpg']},\n",
       "  {'id': 584303,\n",
       "   'title': 'Skinny Vegan Lasagna',\n",
       "   'readyInMinutes': 60,\n",
       "   'servings': 4,\n",
       "   'image': 'Skinny-Vegan-Lasagna-584303.jpg',\n",
       "   'imageUrls': ['Skinny-Vegan-Lasagna-584303.jpg']},\n",
       "  {'id': 733202,\n",
       "   'title': 'Asparagus-Wild Mushroom Risotto with Parmesan',\n",
       "   'readyInMinutes': 30,\n",
       "   'servings': 4,\n",
       "   'image': 'asparagus-wild-mushroom-risotto-with-parmesan-733202.jpeg',\n",
       "   'imageUrls': ['asparagus-wild-mushroom-risotto-with-parmesan-733202.jpeg']},\n",
       "  {'id': 668377,\n",
       "   'title': 'Tofu-Spinach Lasagne',\n",
       "   'readyInMinutes': 30,\n",
       "   'servings': 8,\n",
       "   'image': 'Tofu-Spinach-Lasagne-668377.jpg',\n",
       "   'imageUrls': ['Tofu-Spinach-Lasagne-668377.jpg']},\n",
       "  {'id': 494968,\n",
       "   'title': 'One-Pot Pasta Primavera',\n",
       "   'readyInMinutes': 20,\n",
       "   'servings': 6,\n",
       "   'image': 'One-Pot-Pasta-Primavera-494968.jpg',\n",
       "   'imageUrls': ['One-Pot-Pasta-Primavera-494968.jpg']},\n",
       "  {'id': 667361,\n",
       "   'title': 'Chicken & Veggie Pasta',\n",
       "   'readyInMinutes': 45,\n",
       "   'servings': 4,\n",
       "   'image': 'Chicken---Veggie-Pasta-667361.jpg',\n",
       "   'imageUrls': ['Chicken---Veggie-Pasta-667361.jpg']},\n",
       "  {'id': 504282,\n",
       "   'title': 'Turkey Legs, Italian Sausage and Potatoes in the Slow Cooker',\n",
       "   'readyInMinutes': 45,\n",
       "   'servings': 6,\n",
       "   'image': 'Turkey-Legs--Italian-Sausage-and-Potatoes-in-the-Slow-Cooker-504282.jpg',\n",
       "   'imageUrls': ['Turkey-Legs--Italian-Sausage-and-Potatoes-in-the-Slow-Cooker-504282.jpg']},\n",
       "  {'id': 573620,\n",
       "   'title': 'Quick Broiled Barramundi Fillets with Puttanesca Sauce',\n",
       "   'readyInMinutes': 55,\n",
       "   'servings': 4,\n",
       "   'image': 'Quick-Broiled-Barramundi-Fillets-with-Puttanesca-Sauce-573620.jpg',\n",
       "   'imageUrls': ['Quick-Broiled-Barramundi-Fillets-with-Puttanesca-Sauce-573620.jpg']},\n",
       "  {'id': 606856,\n",
       "   'title': 'Spinach Four Cheese Lasagna Roll Ups',\n",
       "   'readyInMinutes': 50,\n",
       "   'servings': 8,\n",
       "   'image': 'Spinach-Four-Cheese-Lasagna-Roll-Ups-606856.jpg',\n",
       "   'imageUrls': ['Spinach-Four-Cheese-Lasagna-Roll-Ups-606856.jpg']},\n",
       "  {'id': 508581,\n",
       "   'title': 'Toasting to Six Years of ‘My Baking Heart’',\n",
       "   'readyInMinutes': 45,\n",
       "   'servings': 1,\n",
       "   'image': 'Toasting-to-Six-Years-of-My-Baking-Heart-508581.jpg',\n",
       "   'imageUrls': ['Toasting-to-Six-Years-of-My-Baking-Heart-508581.jpg']}],\n",
       " 'baseUri': 'https://spoonacular.com/recipeImages/',\n",
       " 'offset': 0,\n",
       " 'number': 10,\n",
       " 'totalResults': 48031,\n",
       " 'processingTimeMs': 201,\n",
       " 'expires': 1576553111828}"
      ]
     },
     "execution_count": 2,
     "metadata": {},
     "output_type": "execute_result"
    }
   ],
   "source": [
    "eat = input(\"Enter a cuisine you'd like to eat: \")\n",
    "url = 'https://api.spoonacular.com/recipes/search'\n",
    "params = {'cuisine' : eat, 'apiKey' : 'af0adcdfc2f74bd5943e1d54dd154b98', 'instructionsRequired' : True, }\n",
    "response = requests.get(url, params = params)\n",
    "recipe = response.json()\n",
    "recipe"
   ]
  },
  {
   "cell_type": "code",
   "execution_count": null,
   "metadata": {},
   "outputs": [],
   "source": []
  }
 ],
 "metadata": {
  "kernelspec": {
   "display_name": "Python 3",
   "language": "python",
   "name": "python3"
  },
  "language_info": {
   "codemirror_mode": {
    "name": "ipython",
    "version": 3
   },
   "file_extension": ".py",
   "mimetype": "text/x-python",
   "name": "python",
   "nbconvert_exporter": "python",
   "pygments_lexer": "ipython3",
   "version": "3.7.3"
  }
 },
 "nbformat": 4,
 "nbformat_minor": 2
}
