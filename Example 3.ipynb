{
 "cells": [
  {
   "cell_type": "code",
   "execution_count": 1,
   "metadata": {},
   "outputs": [],
   "source": [
    "import json\n",
    "import requests"
   ]
  },
  {
   "cell_type": "code",
   "execution_count": 5,
   "metadata": {},
   "outputs": [
    {
     "name": "stdout",
     "output_type": "stream",
     "text": [
      "Enter a cuisine that you'd like to eat: italian\n",
      "Are you on a diet?: vegetarian\n",
      "Do you have an intolerance?: gluten\n",
      "Italian Rice\n"
     ]
    }
   ],
   "source": [
    "eat = input(\"Enter a cuisine that you'd like to eat: \")\n",
    "diet = input(\"Are you on a diet?: \")\n",
    "intolerance = input(\"Do you have an intolerance?: \")\n",
    "url = 'https://api.spoonacular.com/recipes/search'\n",
    "params = {'cuisine' : eat, 'diet' : diet, 'intolerances' : intolerance, 'apiKey' : 'af0adcdfc2f74bd5943e1d54dd154b98', 'instructionsRequired' : True, }\n",
    "response = requests.get(url, params = params)\n",
    "recipe = response.json()\n",
    "eat_this = recipe['results'][0]['title']\n",
    "idnum = recipe['results'][0]['id']\n",
    "\n",
    "print(eat_this)"
   ]
  },
  {
   "cell_type": "code",
   "execution_count": 6,
   "metadata": {},
   "outputs": [
    {
     "name": "stdout",
     "output_type": "stream",
     "text": [
      "{'vegetarian': True, 'vegan': True, 'glutenFree': True, 'dairyFree': True, 'veryHealthy': True, 'cheap': False, 'veryPopular': False, 'sustainable': False, 'weightWatcherSmartPoints': 3, 'gaps': 'no', 'lowFodmap': False, 'ketogenic': False, 'whole30': False, 'preparationMinutes': 5, 'cookingMinutes': 10, 'sourceUrl': 'http://www.tasteofhome.com/recipes/italian-rice', 'spoonacularSourceUrl': 'https://spoonacular.com/italian-rice-443063', 'aggregateLikes': 174, 'spoonacularScore': 100.0, 'healthScore': 75.0, 'creditsText': 'Taste of Home', 'sourceName': 'Taste of Home', 'pricePerServing': 93.62, 'extendedIngredients': [{'id': 2069, 'aisle': 'Oil, Vinegar, Salad Dressing', 'image': 'balsamic-vinegar.jpg', 'consitency': 'liquid', 'name': 'balsamic vinegar', 'original': '1 tablespoon balsamic vinegar', 'originalString': '1 tablespoon balsamic vinegar', 'originalName': 'balsamic vinegar', 'amount': 1.0, 'unit': 'tablespoon', 'meta': [], 'metaInformation': [], 'measures': {'us': {'amount': 1.0, 'unitShort': 'Tbsp', 'unitLong': 'Tbsp'}, 'metric': {'amount': 1.0, 'unitShort': 'Tbsp', 'unitLong': 'Tbsp'}}}, {'id': 10220445, 'aisle': 'Pasta and Rice', 'image': 'uncooked-white-rice.png', 'consitency': 'solid', 'name': 'cooked rice', 'original': '2 cups hot cooked rice', 'originalString': '2 cups hot cooked rice', 'originalName': 'hot cooked rice', 'amount': 2.0, 'unit': 'cups', 'meta': ['hot', 'cooked'], 'metaInformation': ['hot', 'cooked'], 'measures': {'us': {'amount': 2.0, 'unitShort': 'cups', 'unitLong': 'cups'}, 'metric': {'amount': 473.176, 'unitShort': 'ml', 'unitLong': 'milliliters'}}}, {'id': 11215, 'aisle': 'Produce', 'image': 'garlic.jpg', 'consitency': 'solid', 'name': 'garlic cloves', 'original': '2 garlic cloves, minced', 'originalString': '2 garlic cloves, minced', 'originalName': 'garlic cloves, minced', 'amount': 2.0, 'unit': '', 'meta': ['minced'], 'metaInformation': ['minced'], 'measures': {'us': {'amount': 2.0, 'unitShort': '', 'unitLong': ''}, 'metric': {'amount': 2.0, 'unitShort': '', 'unitLong': ''}}}, {'id': 4053, 'aisle': 'Oil, Vinegar, Salad Dressing', 'image': 'olive-oil.jpg', 'consitency': 'liquid', 'name': 'olive oil', 'original': '2 teaspoons olive oil', 'originalString': '2 teaspoons olive oil', 'originalName': 'olive oil', 'amount': 2.0, 'unit': 'teaspoons', 'meta': [], 'metaInformation': [], 'measures': {'us': {'amount': 2.0, 'unitShort': 'tsps', 'unitLong': 'teaspoons'}, 'metric': {'amount': 2.0, 'unitShort': 'tsps', 'unitLong': 'teaspoons'}}}, {'id': 1002030, 'aisle': 'Spices and Seasonings', 'image': 'pepper.jpg', 'consitency': 'solid', 'name': 'pepper', 'original': '1/8 teaspoon pepper', 'originalString': '1/8 teaspoon pepper', 'originalName': 'pepper', 'amount': 0.125, 'unit': 'teaspoon', 'meta': [], 'metaInformation': [], 'measures': {'us': {'amount': 0.125, 'unitShort': 'tsps', 'unitLong': 'teaspoons'}, 'metric': {'amount': 0.125, 'unitShort': 'tsps', 'unitLong': 'teaspoons'}}}, {'id': 11916, 'aisle': 'Canned and Jarred', 'image': 'red-pepper.jpg', 'consitency': 'solid', 'name': 'roasted red peppers', 'original': '1/2 cup chopped roasted sweet red peppers', 'originalString': '1/2 cup chopped roasted sweet red peppers', 'originalName': 'chopped roasted sweet red peppers', 'amount': 0.5, 'unit': 'cup', 'meta': ['sweet', 'red', 'chopped'], 'metaInformation': ['sweet', 'red', 'chopped'], 'measures': {'us': {'amount': 0.5, 'unitShort': 'cups', 'unitLong': 'cups'}, 'metric': {'amount': 118.294, 'unitShort': 'ml', 'unitLong': 'milliliters'}}}, {'id': 2047, 'aisle': 'Spices and Seasonings', 'image': 'salt.jpg', 'consitency': 'solid', 'name': 'salt', 'original': '1/2 teaspoon salt', 'originalString': '1/2 teaspoon salt', 'originalName': 'salt', 'amount': 0.5, 'unit': 'teaspoon', 'meta': [], 'metaInformation': [], 'measures': {'us': {'amount': 0.5, 'unitShort': 'tsps', 'unitLong': 'teaspoons'}, 'metric': {'amount': 0.5, 'unitShort': 'tsps', 'unitLong': 'teaspoons'}}}, {'id': 10011457, 'aisle': 'Produce', 'image': 'spinach.jpg', 'consitency': 'solid', 'name': 'spinach', 'original': '8 cups fresh spinach (about 10 ounces), chopped', 'originalString': '8 cups fresh spinach (about 10 ounces), chopped', 'originalName': 'cups fresh spinach (about , chopped', 'amount': 10.0, 'unit': 'ounces', 'meta': ['fresh', 'chopped'], 'metaInformation': ['fresh', 'chopped'], 'measures': {'us': {'amount': 10.0, 'unitShort': 'oz', 'unitLong': 'ounces'}, 'metric': {'amount': 283.495, 'unitShort': 'g', 'unitLong': 'grams'}}}], 'id': 443063, 'title': 'Italian Rice', 'readyInMinutes': 15, 'servings': 4, 'image': 'https://spoonacular.com/recipeImages/443063-556x370.jpg', 'imageType': 'jpg', 'cuisines': ['Mediterranean', 'Italian', 'Eastern European', 'European', 'Greek'], 'dishTypes': ['side dish'], 'diets': ['gluten free', 'dairy free', 'lacto ovo vegetarian', 'vegan'], 'occasions': [], 'winePairing': {}, 'instructions': 'Directions                                                                                In a large nonstick skillet, saute garlic in oil for 1 minute. Stir in spinach. Cover and cook for 3-4 minutes or until tender; drain well. Add the vinegar, salt and pepper. Stir in the rice and red peppers until combined. Cook and stir until heated through.                                        Yield: 4 servings.                                                                                                                         Originally published as Italian Rice in  Light & TastyApril/May 2002, p51                                                                                                                                                                                                        Nutritional Facts                                                                             One serving (3/4 cup) equals 151 calories, 3 g fat (trace saturated fat), 0 cholesterol, 398 mg sodium, 29 g carbohydrate, 2 g fiber, 4 g protein. Diabetic Exchanges: 1-1/2 starch, 1 vegetable, 1/2 fat.                                                                                                                                                                    Print                                                                                    Add to Recipe Box                            Email a Friend', 'analyzedInstructions': [{'name': '', 'steps': [{'number': 1, 'step': 'In a large nonstick skillet, saute garlic in oil for 1 minute. Stir in spinach. Cover and cook for 3-4 minutes or until tender; drain well.', 'ingredients': [{'id': 10011457, 'name': 'spinach', 'image': 'spinach.jpg'}, {'id': 11215, 'name': 'garlic', 'image': 'garlic.png'}], 'equipment': [{'id': 404645, 'name': 'frying pan', 'image': 'pan.png'}], 'length': {'number': 5, 'unit': 'minutes'}}, {'number': 2, 'step': 'Add the vinegar, salt and pepper. Stir in the rice and red peppers until combined. Cook and stir until heated through.', 'ingredients': [{'id': 1102047, 'name': 'salt and pepper', 'image': 'salt-and-pepper.jpg'}], 'equipment': []}]}]}\n"
     ]
    }
   ],
   "source": [
    "ident = idnum\n",
    "url = 'https://api.spoonacular.com/recipes/%s/information' % ident\n",
    "params = {'apiKey' : 'af0adcdfc2f74bd5943e1d54dd154b98' }\n",
    "response = requests.get(url, params = params)\n",
    "recipe = response.json()\n",
    "print(recipe)"
   ]
  },
  {
   "cell_type": "code",
   "execution_count": null,
   "metadata": {},
   "outputs": [],
   "source": []
  }
 ],
 "metadata": {
  "kernelspec": {
   "display_name": "Python 3",
   "language": "python",
   "name": "python3"
  },
  "language_info": {
   "codemirror_mode": {
    "name": "ipython",
    "version": 3
   },
   "file_extension": ".py",
   "mimetype": "text/x-python",
   "name": "python",
   "nbconvert_exporter": "python",
   "pygments_lexer": "ipython3",
   "version": "3.7.3"
  }
 },
 "nbformat": 4,
 "nbformat_minor": 2
}
