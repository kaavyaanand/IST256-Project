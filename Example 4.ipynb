{
 "cells": [
  {
   "cell_type": "code",
   "execution_count": 2,
   "metadata": {},
   "outputs": [],
   "source": [
    "import json\n",
    "import requests"
   ]
  },
  {
   "cell_type": "code",
   "execution_count": 3,
   "metadata": {},
   "outputs": [
    {
     "name": "stdout",
     "output_type": "stream",
     "text": [
      "Enter a cuisine that you'd like to eat: italian\n",
      "Are you on a diet?: vegetarian\n",
      "Do you have an intolerance?: none\n",
      "Best Vegetable Lasagna\n"
     ]
    }
   ],
   "source": [
    "eat = input(\"Enter a cuisine that you'd like to eat: \")\n",
    "diet = input(\"Are you on a diet?: \")\n",
    "intolerance = input(\"Do you have an intolerance?: \")\n",
    "url = 'https://api.spoonacular.com/recipes/search'\n",
    "params = {'cuisine' : eat, 'diet' : diet, 'intolerances' : intolerance, 'apiKey' : 'af0adcdfc2f74bd5943e1d54dd154b98', 'instructionsRequired' : True, }\n",
    "response = requests.get(url, params = params)\n",
    "recipe = response.json()\n",
    "eat_this = recipe['results'][0]['title']\n",
    "idnum = recipe['results'][0]['id']\n",
    "\n",
    "print(eat_this)"
   ]
  },
  {
   "cell_type": "code",
   "execution_count": 4,
   "metadata": {},
   "outputs": [
    {
     "name": "stdout",
     "output_type": "stream",
     "text": [
      "Preheat the oven to 425F. Line a large, rimmed baking sheet with parchment paper for easy cleanup.To prepare the veggies: In a large skillet over medium heat, warm the olive oil over medium heat. Once shimmering, add the carrots, bell pepper, zucchini, yellow onion, and salt. Cook, stirring every couple of minutes, until the veggies are golden on the edges, about 8 to 12 minutes.Add a few large handfuls of spinach. Cook, stirring frequently, until the spinach has wilted. Repeat with remaining spinach and cook until all of the spinach has wilted, about 3 minutes. Remove the skillet from the heat and set aside.Meanwhile, to prepare the tomato sauce: Pour the tomatoes into a mesh sieve or fine colander and drain off the excess juice for a minute. Then, transfer the drained tomatoes to the bowl of a food processor. Add the basil, olive oil, garlic, salt, and red pepper flakes.Pulse the mixture about 10 times, until the tomatoes have broken down to an easily spreadable consistency. Pour the mixture into a bowl for later (you should have a little over 2 cups sauce). Rinse out the food processor and return it to the machine.Pour half of the cottage cheese (1 cup) into the processor and blend it until smooth, about 1 minute. Transfer the mixture to large mixing bowl. No need to rinse out the bowl of the food processor this time; just put it back onto the machine because youll need it later.Transfer the cooked veggies and spinach mixture to the bowl of the food processor. Pulse until they are more finely chopped (but not pured!), about 5 to 7 times, stopping to scrape down the sides as necessary. Transfer the mixture to the bowl of whipped cottage cheese. Top with the remaining cottage cheese, then add  to  teaspoon salt (to taste) and lots of freshly ground black pepper. Stir to combine. Now its lasagna assembly time!Spread  cup tomato sauce evenly over the bottom of a 9 by 9 baking dish. Layer 3 lasagna noodles on top (snap off their ends to fit, and/or overlap their edges as necessary). Spread half of the cottage cheese mixture evenly over the noodles. Top with  cup tomato sauce, then sprinkle  cup shredded cheese on top.Top with 3 more noodles, followed by the remaining cottage cheese mixture (were skipping the tomato sauce in this layer.) Sprinkle  cup shredded cheese on top.Top with 3 more noodles, then spread  cup tomato sauce over the top (you may have a little sauce leftover) to evenly cover the noodles. Sprinkle evenly with 1 cup shredded cheese.Wrap a sheet of parchment paper around the top of the lasagna (or cover the lasagna with aluminum foil, but dont let the foil touch the cheese). Bake, covered, for 18 minutes, then remove the cover, rotate the pan by 180 and continue cooking for about 10 to 12 more minutes, until the top is turning spotty brown.Remove from oven and let the lasagna cool for 15 to 20 minutes, so it has time to set and cool down to a reasonable temperature. Sprinkle additional basil over the top, then slice and serve.\n"
     ]
    }
   ],
   "source": [
    "ident = idnum\n",
    "url = 'https://api.spoonacular.com/recipes/%s/information' % ident\n",
    "params = {'apiKey' : 'af0adcdfc2f74bd5943e1d54dd154b98' }\n",
    "response = requests.get(url, params = params)\n",
    "recipe = response.json()\n",
    "\n",
    "instructions = recipe['instructions']\n",
    "print(instructions)"
   ]
  },
  {
   "cell_type": "code",
   "execution_count": null,
   "metadata": {},
   "outputs": [],
   "source": []
  }
 ],
 "metadata": {
  "kernelspec": {
   "display_name": "Python 3",
   "language": "python",
   "name": "python3"
  },
  "language_info": {
   "codemirror_mode": {
    "name": "ipython",
    "version": 3
   },
   "file_extension": ".py",
   "mimetype": "text/x-python",
   "name": "python",
   "nbconvert_exporter": "python",
   "pygments_lexer": "ipython3",
   "version": "3.7.3"
  }
 },
 "nbformat": 4,
 "nbformat_minor": 2
}
